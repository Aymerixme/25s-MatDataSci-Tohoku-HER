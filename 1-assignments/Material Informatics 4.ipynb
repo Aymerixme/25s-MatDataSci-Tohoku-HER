{
 "cells": [
  {
   "cell_type": "code",
   "execution_count": 1,
   "id": "05765d60-697c-41a9-b23b-88f89599a326",
   "metadata": {},
   "outputs": [],
   "source": [
    "import numpy as np\n",
    "from torch_geometric.data import Data\n",
    "from torch_geometric.nn import radius_graph\n",
    "from torch_geometric.loader import DataLoader\n",
    "from torch_geometric.nn import GCNConv, global_mean_pool\n",
    "from torch.optim import Adam\n",
    "import torch\n",
    "import torch.nn.functional as F\n",
    "from torch.nn import Linear, Module\n",
    "from sklearn.preprocessing import StandardScaler"
   ]
  },
  {
   "cell_type": "code",
   "execution_count": 3,
   "id": "f08e628a-129f-4225-8f07-f49fccd3da8e",
   "metadata": {},
   "outputs": [],
   "source": [
    "# Load the .npz file\n",
    "data = np.load('C:/Users/nchni/OneDrive/Desktop/M1/Material Informatics/datasets/DFT_all.npz',allow_pickle=True)"
   ]
  },
  {
   "cell_type": "code",
   "execution_count": 5,
   "id": "1c1aee2e-ca8d-4255-8f49-d26c986707a9",
   "metadata": {},
   "outputs": [],
   "source": [
    "Zs = data['atoms']             # atomic numbers (per molecule)\n",
    "Rs = data['coordinates']       # 3D positions (per molecule)\n",
    "\n",
    "# Extract dipole components\n",
    "dipoles = data['dipole']\n",
    "dipole_x = np.array([d[0] for d in dipoles])\n",
    "dipole_y = np.array([d[1] for d in dipoles])\n",
    "dipole_z = np.array([d[2] for d in dipoles])\n",
    "\n",
    "# Define targets\n",
    "targets = ['U0', 'gap', 'H']\n",
    "Y_all = np.column_stack([\n",
    "    data['U0'], data['gap'], data['H'],\n",
    "    dipole_x, dipole_y, dipole_z\n",
    "])"
   ]
  },
  {
   "cell_type": "code",
   "execution_count": 7,
   "id": "6a681898-780e-4842-971c-f8164babc347",
   "metadata": {},
   "outputs": [],
   "source": [
    "scaler = StandardScaler()\n",
    "Y_scaled = scaler.fit_transform(Y_all)\n",
    "Ys = list(Y_scaled)"
   ]
  },
  {
   "cell_type": "code",
   "execution_count": 9,
   "id": "4e819831-761f-45a0-b2e1-d41c8366b13f",
   "metadata": {},
   "outputs": [],
   "source": [
    "def build_graph(Z, R, y):\n",
    "    x = torch.tensor(Z, dtype=torch.float).reshape(-1, 1)\n",
    "    pos = torch.tensor(R, dtype=torch.float)\n",
    "    \n",
    "    y = torch.tensor(y, dtype=torch.float).reshape(1, -1)  # ✅ fix: ensures [1, 6] shape\n",
    "    \n",
    "    edge_index = radius_graph(pos, r=5.0, loop=False)\n",
    "    return Data(x=x, pos=pos, edge_index=edge_index, y=y)"
   ]
  },
  {
   "cell_type": "code",
   "execution_count": 11,
   "id": "873cd66a-7755-4d0f-ae92-a44f9569663a",
   "metadata": {},
   "outputs": [],
   "source": [
    "dataset = [build_graph(z, r, y) for z, r, y in zip(Zs, Rs, Ys)]\n",
    "loader = DataLoader(dataset, batch_size=32, shuffle=True)"
   ]
  },
  {
   "cell_type": "code",
   "execution_count": 13,
   "id": "bd877f32-5f2f-4be1-a95e-883c77a7b72b",
   "metadata": {},
   "outputs": [],
   "source": [
    "class GNNModel(Module):\n",
    "    def __init__(self, hidden_dim=64, output_dim=6):\n",
    "        super().__init__()\n",
    "        self.conv1 = GCNConv(1, hidden_dim)  # input: atomic number\n",
    "        self.conv2 = GCNConv(hidden_dim, hidden_dim)\n",
    "        self.lin1 = Linear(hidden_dim, hidden_dim)\n",
    "        self.lin2 = Linear(hidden_dim, output_dim)\n",
    "\n",
    "    def forward(self, data):\n",
    "        x, edge_index, batch = data.x, data.edge_index, data.batch\n",
    "        x = F.relu(self.conv1(x, edge_index))\n",
    "        x = F.relu(self.conv2(x, edge_index))\n",
    "        x = global_mean_pool(x, batch)       # Global graph representation\n",
    "        x = F.relu(self.lin1(x))\n",
    "        out = self.lin2(x)                   # Multi-target output\n",
    "        return out"
   ]
  },
  {
   "cell_type": "code",
   "execution_count": 15,
   "id": "72c6adaf-7363-4707-a5b6-9a4ad1dc5784",
   "metadata": {},
   "outputs": [],
   "source": [
    "device = torch.device('cuda' if torch.cuda.is_available() else 'cpu')\n",
    "model = GNNModel().to(device)\n",
    "optimizer = Adam(model.parameters(), lr=0.001)\n",
    "loss_fn = torch.nn.MSELoss()"
   ]
  },
  {
   "cell_type": "code",
   "execution_count": null,
   "id": "2d0266f2-9a85-44b1-854b-e01b34ba7dcb",
   "metadata": {},
   "outputs": [
    {
     "name": "stdout",
     "output_type": "stream",
     "text": [
      "Epoch 01 | Loss: 0.7660\n",
      "Epoch 02 | Loss: 0.7295\n",
      "Epoch 03 | Loss: 0.7201\n",
      "Epoch 04 | Loss: 0.7161\n",
      "Epoch 05 | Loss: 0.7137\n",
      "Epoch 06 | Loss: 0.7124\n",
      "Epoch 07 | Loss: 0.7110\n",
      "Epoch 08 | Loss: 0.7098\n",
      "Epoch 09 | Loss: 0.7088\n",
      "Epoch 10 | Loss: 0.7080\n",
      "Epoch 11 | Loss: 0.7075\n",
      "Epoch 12 | Loss: 0.7074\n",
      "Epoch 13 | Loss: 0.7068\n",
      "Epoch 14 | Loss: 0.7066\n",
      "Epoch 15 | Loss: 0.7063\n",
      "Epoch 16 | Loss: 0.7063\n",
      "Epoch 17 | Loss: 0.7057\n",
      "Epoch 18 | Loss: 0.7053\n",
      "Epoch 19 | Loss: 0.7052\n",
      "Epoch 20 | Loss: 0.7051\n",
      "Epoch 21 | Loss: 0.7049\n"
     ]
    }
   ],
   "source": [
    "# Send model to train mode\n",
    "model.train()\n",
    "\n",
    "for epoch in range(1, 51):\n",
    "    total_loss = 0\n",
    "    for batch in loader:\n",
    "        batch = batch.to(device)\n",
    "\n",
    "        # Forward pass\n",
    "        pred = model(batch)  # shape [batch_size, 6]\n",
    "        target = batch.y     # shape [batch_size, 6]\n",
    "\n",
    "        # Confirm shapes match\n",
    "        if pred.shape != target.shape:\n",
    "            print(f\"Shape mismatch: pred={pred.shape}, target={target.shape}\")\n",
    "            continue  # skip batch or raise an error\n",
    "\n",
    "        # Loss and backprop\n",
    "        loss = loss_fn(pred, target)\n",
    "        loss.backward()\n",
    "        optimizer.step()\n",
    "        optimizer.zero_grad()\n",
    "\n",
    "        total_loss += loss.item() * batch.num_graphs\n",
    "\n",
    "    avg_loss = total_loss / len(loader.dataset)\n",
    "    print(f\"Epoch {epoch:02d} | Loss: {avg_loss:.4f}\")"
   ]
  },
  {
   "cell_type": "code",
   "execution_count": null,
   "id": "c3a75aa5-6468-45ee-9bb5-22b73c35dcbb",
   "metadata": {},
   "outputs": [],
   "source": [
    "from sklearn.metrics import mean_absolute_error, mean_squared_error\n",
    "\n",
    "# Step 6: Evaluate the model\n",
    "model.eval()\n",
    "all_preds, all_targets = [], []\n",
    "\n",
    "with torch.no_grad():\n",
    "    for batch in loader:\n",
    "        batch = batch.to(device)\n",
    "        pred = model(batch)\n",
    "        all_preds.append(pred.cpu().numpy())\n",
    "        all_targets.append(batch.y.view(pred.shape).cpu().numpy())\n",
    "\n",
    "y_pred = np.vstack(all_preds)\n",
    "y_true = np.vstack(all_targets)\n",
    "\n",
    "# Inverse scale the predictions and targets\n",
    "y_pred_real = scaler.inverse_transform(y_pred)\n",
    "y_true_real = scaler.inverse_transform(y_true)\n",
    "\n",
    "# Metrics\n",
    "mae = mean_absolute_error(y_true_real, y_pred_real)\n",
    "rmse = mean_squared_error(y_true_real, y_pred_real, squared=False)\n",
    "\n",
    "print(\"\\nFinal Evaluation:\")\n",
    "print(f\"MAE: {mae:.4f}\")\n",
    "print(f\"RMSE: {rmse:.4f}\")"
   ]
  }
 ],
 "metadata": {
  "kernelspec": {
   "display_name": "Python (gnn_clean)",
   "language": "python",
   "name": "gnn_clean"
  },
  "language_info": {
   "codemirror_mode": {
    "name": "ipython",
    "version": 3
   },
   "file_extension": ".py",
   "mimetype": "text/x-python",
   "name": "python",
   "nbconvert_exporter": "python",
   "pygments_lexer": "ipython3",
   "version": "3.10.16"
  }
 },
 "nbformat": 4,
 "nbformat_minor": 5
}
